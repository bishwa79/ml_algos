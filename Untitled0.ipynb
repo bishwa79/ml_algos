{
  "nbformat": 4,
  "nbformat_minor": 0,
  "metadata": {
    "colab": {
      "provenance": [],
      "authorship_tag": "ABX9TyPNC9H5u/pPoloaJohdLEdY",
      "include_colab_link": true
    },
    "kernelspec": {
      "name": "python3",
      "display_name": "Python 3"
    },
    "language_info": {
      "name": "python"
    }
  },
  "cells": [
    {
      "cell_type": "markdown",
      "metadata": {
        "id": "view-in-github",
        "colab_type": "text"
      },
      "source": [
        "<a href=\"https://colab.research.google.com/github/bishwa79/ml_algos/blob/main/Untitled0.ipynb\" target=\"_parent\"><img src=\"https://colab.research.google.com/assets/colab-badge.svg\" alt=\"Open In Colab\"/></a>"
      ]
    },
    {
      "cell_type": "code",
      "execution_count": null,
      "metadata": {
        "id": "Y6zvTJo5jH-E"
      },
      "outputs": [],
      "source": [
        "import spacy\n",
        "import gensim\n",
        "nlp = spacy.load(\"en_core_web_sm\")"
      ]
    },
    {
      "cell_type": "code",
      "source": [
        "nlp.max_length = 2000000"
      ],
      "metadata": {
        "id": "gcMKbyBOn7bO"
      },
      "execution_count": null,
      "outputs": []
    },
    {
      "cell_type": "code",
      "source": [
        "with open('001ssb.txt','r',encoding='utf-8') as file:\n",
        "\n",
        "  text  = file.read()"
      ],
      "metadata": {
        "id": "h4yfr4Tvj_uX"
      },
      "execution_count": null,
      "outputs": []
    },
    {
      "cell_type": "code",
      "source": [
        "doc= nlp(text)"
      ],
      "metadata": {
        "id": "JjVEL6_ykuUK"
      },
      "execution_count": null,
      "outputs": []
    },
    {
      "cell_type": "code",
      "source": [],
      "metadata": {
        "id": "JJd1oKWNS6Ta"
      },
      "execution_count": null,
      "outputs": []
    },
    {
      "cell_type": "code",
      "source": [
        "doc = [[token.text for token in sentence if token.is_stop!=True and token.is_punct!=True] for sentence in doc.sents]"
      ],
      "metadata": {
        "id": "STSqopgnk4Wn"
      },
      "execution_count": null,
      "outputs": []
    },
    {
      "cell_type": "code",
      "source": [
        "doc=[token.lower() for token in doc if token!='\\n']"
      ],
      "metadata": {
        "id": "1Zxj0ontqmQ6"
      },
      "execution_count": null,
      "outputs": []
    },
    {
      "cell_type": "code",
      "source": [
        "#create cbow model\n",
        "model = gensim.models.Word2Vec(\n",
        "    min_count=1,vector_size=100,window=5)"
      ],
      "metadata": {
        "id": "c4NzyGC6qrBX"
      },
      "execution_count": null,
      "outputs": []
    },
    {
      "cell_type": "code",
      "source": [
        "model.build_vocab(doc)"
      ],
      "metadata": {
        "id": "3aEGFN9fIm_d"
      },
      "execution_count": null,
      "outputs": []
    },
    {
      "cell_type": "code",
      "source": [
        "model.train(doc,total_examples=model.corpus_count, epochs=model.epochs)"
      ],
      "metadata": {
        "colab": {
          "base_uri": "https://localhost:8080/"
        },
        "id": "ayV5xJO3Iubb",
        "outputId": "d05c9394-8b00-441e-be58-71e293b4c8a9"
      },
      "execution_count": null,
      "outputs": [
        {
          "output_type": "execute_result",
          "data": {
            "text/plain": [
              "(661203, 767800)"
            ]
          },
          "metadata": {},
          "execution_count": 56
        }
      ]
    },
    {
      "cell_type": "code",
      "source": [
        "#create skip gram model\n",
        "model2= gensim.models.Word2Vec(doc,min_count=1,vector_size=100,window=5,sg=1)"
      ],
      "metadata": {
        "colab": {
          "base_uri": "https://localhost:8080/"
        },
        "id": "tEAIhJzUDjp_",
        "outputId": "5ba76855-79e2-4003-a3d2-b31a81d6808c"
      },
      "execution_count": null,
      "outputs": [
        {
          "output_type": "stream",
          "name": "stderr",
          "text": [
            "WARNING:gensim.models.word2vec:Each 'sentences' item should be a list of words (usually unicode strings). First item here is instead plain <class 'str'>.\n"
          ]
        }
      ]
    },
    {
      "cell_type": "code",
      "source": [
        "doc"
      ],
      "metadata": {
        "id": "zeP29F6eKlH4"
      },
      "execution_count": null,
      "outputs": []
    },
    {
      "cell_type": "code",
      "source": [
        "model.wv['ugly']"
      ],
      "metadata": {
        "colab": {
          "base_uri": "https://localhost:8080/"
        },
        "id": "u6srUnmRGd4b",
        "outputId": "0e8c8e6f-e0f7-4bb6-c198-9bbe916d44f7"
      },
      "execution_count": null,
      "outputs": [
        {
          "output_type": "execute_result",
          "data": {
            "text/plain": [
              "array([-0.13273157,  0.2511011 , -0.00082424,  0.08790047, -0.20400883,\n",
              "       -0.3403432 ,  0.10485128,  0.39578712, -0.12358569, -0.1606316 ,\n",
              "        0.01451249, -0.24902536,  0.02911289,  0.11129609, -0.01083901,\n",
              "       -0.20703745,  0.07071105, -0.12259245,  0.00160821, -0.42341253,\n",
              "        0.21655898,  0.08133825,  0.18977103, -0.03507274, -0.02602348,\n",
              "       -0.05826339, -0.06437036, -0.08132813, -0.12733753,  0.04047034,\n",
              "        0.16237462, -0.05499309,  0.02441637, -0.2398383 , -0.12820311,\n",
              "        0.25996262, -0.00059626, -0.231732  , -0.01805738, -0.35257256,\n",
              "       -0.06546856, -0.11949023, -0.24595673, -0.14754748,  0.04855425,\n",
              "       -0.03807941, -0.0976124 ,  0.01657956,  0.10153244,  0.18329409,\n",
              "       -0.04654477, -0.1986625 , -0.09475547,  0.00857179,  0.01499183,\n",
              "        0.08812339,  0.2593295 , -0.20300117, -0.11770452,  0.0127221 ,\n",
              "       -0.11083224,  0.04344311, -0.04889287, -0.05157664, -0.23667012,\n",
              "        0.19584137, -0.01626011,  0.05197497, -0.27576533,  0.32720318,\n",
              "        0.04149611,  0.17022817,  0.16608384, -0.01765084,  0.19098115,\n",
              "        0.07859503, -0.16701306, -0.01992956, -0.21829407, -0.02375695,\n",
              "       -0.0592536 , -0.02616604, -0.08466256,  0.2729462 , -0.05434635,\n",
              "        0.02866666, -0.06870647,  0.04717289,  0.13194971,  0.12771398,\n",
              "        0.26102895,  0.15759625,  0.08289649, -0.08112627,  0.34253207,\n",
              "        0.1501932 ,  0.14103365, -0.23539992, -0.08061082,  0.05913827],\n",
              "      dtype=float32)"
            ]
          },
          "metadata": {},
          "execution_count": 57
        }
      ]
    },
    {
      "cell_type": "code",
      "source": [
        "model.wv.most_similar('Royce')"
      ],
      "metadata": {
        "id": "LyJVAZy3Gsyb",
        "colab": {
          "base_uri": "https://localhost:8080/"
        },
        "outputId": "e4ae82dd-2ba1-44ca-b661-526ce57c97e3"
      },
      "execution_count": null,
      "outputs": [
        {
          "output_type": "execute_result",
          "data": {
            "text/plain": [
              "[('Kingsguard', 0.9994173049926758),\n",
              " ('sent', 0.9993207454681396),\n",
              " ('commanded', 0.9993103742599487),\n",
              " ('returned', 0.9992815256118774),\n",
              " ('best', 0.9992623329162598),\n",
              " ('send', 0.9992392063140869),\n",
              " ('called', 0.9992170333862305),\n",
              " ('lady', 0.9992069602012634),\n",
              " ('truth', 0.9992049932479858),\n",
              " ('royal', 0.9992029666900635)]"
            ]
          },
          "metadata": {},
          "execution_count": 58
        }
      ]
    },
    {
      "cell_type": "code",
      "source": [],
      "metadata": {
        "id": "wkg-mq6bkQbE"
      },
      "execution_count": null,
      "outputs": []
    }
  ]
}